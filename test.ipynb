{
 "cells": [
  {
   "cell_type": "code",
   "execution_count": 1,
   "metadata": {
    "collapsed": true
   },
   "outputs": [
    {
     "name": "stdout",
     "output_type": "stream",
     "text": [
      "股票0 mean 均值期望:-0.016\n股票0 std 振幅标准差:1.047\n"
     ]
    },
    {
     "data": {
      "text/plain": [
       "[<matplotlib.lines.Line2D at 0x26afeeadeb8>]"
      ]
     },
     "execution_count": 1,
     "metadata": {},
     "output_type": "execute_result"
    }
   ],
   "source": [
    "import numpy as np\n",
    "import matplotlib.pyplot as plt\n",
    "import scipy.stats as scs\n",
    "#股票数据\n",
    "stock_day_change = np.random.standard_normal((200,504))\n",
    "#均值期望\n",
    "stock_mean = stock_day_change[0].mean()\n",
    "#标准差\n",
    "stock_std = stock_day_change[0].std()\n",
    "print('股票0 mean 均值期望:{:.3f}'.format(stock_mean))\n",
    "print('股票0 std 振幅标准差:{:.3f}'.format(stock_std))\n",
    "#绘制股票0的直方图\n",
    "plt.hist(stock_day_change[0],bins=50,normed=True)\n",
    "#linspace从股票0的最小值------>到最大值生成数据 linspace默认生成50个数据\n",
    "fit_linespace = np.linspace(stock_day_change[0].min(),stock_day_change[0].max())\n",
    "#概率密度函数(PDF,probability density function)\n",
    "#由均值、方差来描述曲线，使用scipy.stats.norm.pdf生成拟合曲线\n",
    "pdf = scs.norm(stock_mean,stock_std).pdf(fit_linespace)\n",
    "#plot x=fit_linspace y= pdf\n",
    "plt.plot(fit_linespace,pdf,lw=2,c='r')"
   ]
  },
  {
   "cell_type": "code",
   "execution_count": 6,
   "metadata": {},
   "outputs": [
    {
     "data": {
      "text/plain": [
       "[<matplotlib.lines.Line2D at 0x26aff354828>]"
      ]
     },
     "execution_count": 6,
     "metadata": {},
     "output_type": "execute_result"
    }
   ],
   "source": [
    "plt.hist(stock_day_change[0],bins=50,normed=True)\n",
    "#linspace从股票0的最小值------>到最大值生成数据 linspace默认生成50个数据\n",
    "fit_linespace = np.linspace(stock_day_change[0].min(),stock_day_change[0].max())\n",
    "#概率密度函数(PDF,probability density function)\n",
    "#由均值、方差来描述曲线，使用scipy.stats.norm.pdf生成拟合曲线\n",
    "pdf = scs.norm(stock_mean,stock_std).pdf(fit_linespace)\n",
    "#plot x=fit_linspace y= pdf\n",
    "plt.plot(fit_linespace,pdf,lw=2,c='r')"
   ]
  },
  {
   "cell_type": "code",
   "execution_count": null,
   "metadata": {},
   "outputs": [],
   "source": []
  }
 ],
 "metadata": {
  "kernelspec": {
   "display_name": "Python 2",
   "language": "python",
   "name": "python2"
  },
  "language_info": {
   "codemirror_mode": {
    "name": "ipython",
    "version": 2
   },
   "file_extension": ".py",
   "mimetype": "text/x-python",
   "name": "python",
   "nbconvert_exporter": "python",
   "pygments_lexer": "ipython2",
   "version": "2.7.6"
  }
 },
 "nbformat": 4,
 "nbformat_minor": 0
}
